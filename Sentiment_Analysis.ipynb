{
  "nbformat": 4,
  "nbformat_minor": 0,
  "metadata": {
    "colab": {
      "name": "Sentiment Analysis ",
      "provenance": [],
      "collapsed_sections": []
    },
    "kernelspec": {
      "name": "python3",
      "display_name": "Python 3"
    }
  },
  "cells": [
    {
      "cell_type": "markdown",
      "metadata": {
        "id": "dI2lY1JlhAYR"
      },
      "source": [
        "# **Importing the packages for data analysis**\n",
        "\n",
        "At first sight, we will use four main packages: pandas,numpy, matplotlib and seaborn. Let's import these packages using the keyword import. We will change the name from pandas to pd,numpy to np,matplotlib to pltand seaborn to sns, using the keyword as.\n",
        "\n",
        "We will be using the nltk, sklearn, collections and wordcloud packages for processing our text component. While we analyze the text, we will be using sklearn package again to model our text features."
      ]
    },
    {
      "cell_type": "code",
      "metadata": {
        "id": "azLGDYHVN3tp"
      },
      "source": [
        "! pip install nltk\n",
        "! pip install wordcloud"
      ],
      "execution_count": 3,
      "outputs": []
    },
    {
      "cell_type": "code",
      "metadata": {
        "id": "yJFEOBseOOaL"
      },
      "source": [
        "# General packages\n",
        "import numpy as np\n",
        "import pandas as pd\n",
        "import seaborn as sns\n",
        "import matplotlib.pyplot as plt\n",
        "import os\n",
        "\n",
        "# NLP packages\n",
        "import nltk\n",
        "from nltk import word_tokenize # to tokenize sentences to have words\n",
        "# # counting the repetition of the frequency of each of the word \n",
        "from sklearn.feature_extraction.text import CountVectorizer\n",
        "# # Generally a vectorizer to change a dimentionless base of the words \n",
        "from sklearn.feature_extraction.text import TfidfVectorizer\n",
        "from collections import Counter\n",
        "from wordcloud import WordCloud\n",
        "\n",
        "# Modeling packages\n",
        "from sklearn.model_selection import train_test_split\n",
        "from sklearn.linear_model import LogisticRegression\n",
        "from sklearn.ensemble import RandomForestClassifier\n",
        "from sklearn.metrics import accuracy_score\n",
        "from sklearn.metrics import f1_score\n",
        "\n",
        "from pylab import rcParams\n",
        "import warnings\n",
        "warnings.filterwarnings(\"ignore\")\n",
        "rcParams['figure.figsize'] = 14, 6\n",
        "plt.style.use('ggplot')"
      ],
      "execution_count": 4,
      "outputs": []
    },
    {
      "cell_type": "markdown",
      "metadata": {
        "id": "WePq6r-Tic-N"
      },
      "source": [
        "We will be working with a .csv file that contains information about tens of thousands of customers writing reviews on Amazon products every day. Each review contains textual feedback along with a 1-to-5 star rating system (1 being least satisfied and 5 being most satisfied). In this way, the following attributes are available in the data:\n",
        "\n",
        "\n",
        "\n",
        "1.   **ProductId (categorical):** ID of the referenced product by the customer.\n",
        "\n",
        "2.   **UserId (categorical):** registered user ID.\n",
        "\n",
        "3.   **ProfileName (text):** registered user profile name.\n",
        "\n",
        "4.   **HelpfulnessNumerator (numerical):** number of users who found the review helpful.\n",
        "\n",
        "5.   **HelpfulnessDenominator (numerical):** Number of users who voted whether the review was helpful or not.\n",
        "\n",
        "6.   **Score (ordinal):** rating between 1 and 5.\n",
        "\n",
        "7.   **Time (numerical):** timestamp of the review.\n",
        "\n",
        "8.   **Summary (text):** brief summary of the review.\n",
        "\n",
        "9.   **Text (text):** text of the review.\n",
        "\n"
      ]
    },
    {
      "cell_type": "markdown",
      "metadata": {
        "id": "0qPnIpQ48AaA"
      },
      "source": [
        "# **Reading and performing basic analysis of the data**\n",
        "\n",
        "As usual the first step is to read the available data and perform some high-level analysis on it:"
      ]
    },
    {
      "cell_type": "code",
      "metadata": {
        "colab": {
          "base_uri": "https://localhost:8080/",
          "height": 204
        },
        "id": "0xvxPoNJyiev",
        "outputId": "e028dc8f-c23b-4123-a5ba-1f625d0bc528"
      },
      "source": [
        "df = pd.read_csv('https://media.githubusercontent.com/media/juliandariomirandacalle/NLP_Notebooks/master/01-Introduction_NLP/Customer_Reviews.csv'\n",
        ")\n",
        "df.head()"
      ],
      "execution_count": 5,
      "outputs": [
        {
          "output_type": "execute_result",
          "data": {
            "text/html": [
              "<div>\n",
              "<style scoped>\n",
              "    .dataframe tbody tr th:only-of-type {\n",
              "        vertical-align: middle;\n",
              "    }\n",
              "\n",
              "    .dataframe tbody tr th {\n",
              "        vertical-align: top;\n",
              "    }\n",
              "\n",
              "    .dataframe thead th {\n",
              "        text-align: right;\n",
              "    }\n",
              "</style>\n",
              "<table border=\"1\" class=\"dataframe\">\n",
              "  <thead>\n",
              "    <tr style=\"text-align: right;\">\n",
              "      <th></th>\n",
              "      <th>ProductId</th>\n",
              "      <th>UserId</th>\n",
              "      <th>ProfileName</th>\n",
              "      <th>HelpfulnessNumerator</th>\n",
              "      <th>HelpfulnessDenominator</th>\n",
              "      <th>Score</th>\n",
              "      <th>Time</th>\n",
              "      <th>Summary</th>\n",
              "      <th>Text</th>\n",
              "    </tr>\n",
              "  </thead>\n",
              "  <tbody>\n",
              "    <tr>\n",
              "      <th>0</th>\n",
              "      <td>B001E4KFG0</td>\n",
              "      <td>A3SGXH7AUHU8GW</td>\n",
              "      <td>delmartian</td>\n",
              "      <td>1</td>\n",
              "      <td>1</td>\n",
              "      <td>5</td>\n",
              "      <td>1303862400</td>\n",
              "      <td>Good Quality Dog Food</td>\n",
              "      <td>I have bought several of the Vitality canned d...</td>\n",
              "    </tr>\n",
              "    <tr>\n",
              "      <th>1</th>\n",
              "      <td>B00813GRG4</td>\n",
              "      <td>A1D87F6ZCVE5NK</td>\n",
              "      <td>dll pa</td>\n",
              "      <td>0</td>\n",
              "      <td>0</td>\n",
              "      <td>1</td>\n",
              "      <td>1346976000</td>\n",
              "      <td>Not as Advertised</td>\n",
              "      <td>Product arrived labeled as Jumbo Salted Peanut...</td>\n",
              "    </tr>\n",
              "    <tr>\n",
              "      <th>2</th>\n",
              "      <td>B000LQOCH0</td>\n",
              "      <td>ABXLMWJIXXAIN</td>\n",
              "      <td>Natalia Corres \"Natalia Corres\"</td>\n",
              "      <td>1</td>\n",
              "      <td>1</td>\n",
              "      <td>4</td>\n",
              "      <td>1219017600</td>\n",
              "      <td>\"Delight\" says it all</td>\n",
              "      <td>This is a confection that has been around a fe...</td>\n",
              "    </tr>\n",
              "    <tr>\n",
              "      <th>3</th>\n",
              "      <td>B000UA0QIQ</td>\n",
              "      <td>A395BORC6FGVXV</td>\n",
              "      <td>Karl</td>\n",
              "      <td>3</td>\n",
              "      <td>3</td>\n",
              "      <td>2</td>\n",
              "      <td>1307923200</td>\n",
              "      <td>Cough Medicine</td>\n",
              "      <td>If you are looking for the secret ingredient i...</td>\n",
              "    </tr>\n",
              "    <tr>\n",
              "      <th>4</th>\n",
              "      <td>B006K2ZZ7K</td>\n",
              "      <td>A1UQRSCLF8GW1T</td>\n",
              "      <td>Michael D. Bigham \"M. Wassir\"</td>\n",
              "      <td>0</td>\n",
              "      <td>0</td>\n",
              "      <td>5</td>\n",
              "      <td>1350777600</td>\n",
              "      <td>Great taffy</td>\n",
              "      <td>Great taffy at a great price.  There was a wid...</td>\n",
              "    </tr>\n",
              "  </tbody>\n",
              "</table>\n",
              "</div>"
            ],
            "text/plain": [
              "    ProductId  ...                                               Text\n",
              "0  B001E4KFG0  ...  I have bought several of the Vitality canned d...\n",
              "1  B00813GRG4  ...  Product arrived labeled as Jumbo Salted Peanut...\n",
              "2  B000LQOCH0  ...  This is a confection that has been around a fe...\n",
              "3  B000UA0QIQ  ...  If you are looking for the secret ingredient i...\n",
              "4  B006K2ZZ7K  ...  Great taffy at a great price.  There was a wid...\n",
              "\n",
              "[5 rows x 9 columns]"
            ]
          },
          "metadata": {
            "tags": []
          },
          "execution_count": 5
        }
      ]
    },
    {
      "cell_type": "markdown",
      "metadata": {
        "id": "fLkbXvFt_zBH"
      },
      "source": [
        "Let's look at the distribution of number of words per review. We will do this by applying a lambda function that splits each complete review by spaces, Which will give us the borad words:"
      ]
    },
    {
      "cell_type": "code",
      "metadata": {
        "colab": {
          "base_uri": "https://localhost:8080/",
          "height": 391
        },
        "id": "5-wYqYB083AW",
        "outputId": "33f73731-e488-4983-e6ba-f0e683474921"
      },
      "source": [
        "# Getting the number of words by splitting them by a space \n",
        "words_per_review = df.Text.apply(lambda x: len(x.split(\" \")))\n",
        "words_per_review.hist(bins = 100)\n",
        "plt.xlabel('Review Length (words)')\n",
        "plt.ylabel('Frequency')\n",
        "plt.show()"
      ],
      "execution_count": 6,
      "outputs": [
        {
          "output_type": "display_data",
          "data": {
            "image/png": "[encoded data removed]",
            "text/plain": [
              "<Figure size 1008x432 with 1 Axes>"
            ]
          },
          "metadata": {
            "tags": []
          }
        }
      ]
    },
    {
      "cell_type": "code",
      "metadata": {
        "colab": {
          "base_uri": "https://localhost:8080/"
        },
        "id": "V051soJmBJXn",
        "outputId": "5a561b2f-892a-43ed-ccfb-12f38d4c5a0f"
      },
      "source": [
        " print('Average words:', words_per_review.mean())\n",
        " print('Skewness:', words_per_review.skew()) # how a symmetrics a data is explained by Skewness"
      ],
      "execution_count": 7,
      "outputs": [
        {
          "output_type": "stream",
          "text": [
            "Average words: 77.9028\n",
            "Skewness: 4.612459483340116\n"
          ],
          "name": "stdout"
        }
      ]
    },
    {
      "cell_type": "markdown",
      "metadata": {
        "id": "FM4tzVUqCAm7"
      },
      "source": [
        "We can see that the number of words per user review is highly positive skewed with mean of 77, which means that on average, user reviews have 77 words.\n",
        "\n",
        "Let's also look at the distribution of ratings:"
      ]
    },
    {
      "cell_type": "code",
      "metadata": {
        "colab": {
          "base_uri": "https://localhost:8080/"
        },
        "id": "XxOjFB6bBtfB",
        "outputId": "5e5b4cfe-91c0-4250-a177-b74b2435f380"
      },
      "source": [
        "percent_val = 100 * df['Score'].value_counts()/len(df)\n",
        "percent_val"
      ],
      "execution_count": 8,
      "outputs": [
        {
          "output_type": "execute_result",
          "data": {
            "text/plain": [
              "5    61.83\n",
              "4    14.33\n",
              "1     9.32\n",
              "3     8.62\n",
              "2     5.90\n",
              "Name: Score, dtype: float64"
            ]
          },
          "metadata": {
            "tags": []
          },
          "execution_count": 8
        }
      ]
    },
    {
      "cell_type": "code",
      "metadata": {
        "colab": {
          "base_uri": "https://localhost:8080/",
          "height": 370
        },
        "id": "Xbs-OMcKENOg",
        "outputId": "59caf177-8b60-47ae-c5d1-f95810501bee"
      },
      "source": [
        "percent_val.plot.bar()\n",
        "plt.show;"
      ],
      "execution_count": 9,
      "outputs": [
        {
          "output_type": "display_data",
          "data": {
            "image/png": "[encoded data removed]",
            "text/plain": [
              "<Figure size 1008x432 with 1 Axes>"
            ]
          },
          "metadata": {
            "tags": []
          }
        }
      ]
    },
    {
      "cell_type": "markdown",
      "metadata": {
        "id": "IhsNZAjtKjL4"
      },
      "source": [
        "The distribution is quite skewed, with a giant number of 5a and very few 3s, 2s, and 1s."
      ]
    },
    {
      "cell_type": "markdown",
      "metadata": {
        "id": "n1N6IcgNRnt3"
      },
      "source": [
        "# **Text visualization using word clouds (word clouds )**\n",
        "\n",
        "As visualization is crucial for numerical data, it is also important for text data. However, the text does not lend itself to histogram charts or scatterplots, as numerical data does. In such cases, the word clouds are a common and very useful tool to appreciate the text distribution.\n",
        "\n",
        "To make a word cloud of the string values of the Seires data['Text'], we are going to import the WordCloud package (if it is not installed, you can proceed to install it with pip install wordcloud) and join all the text with the .join() method:"
      ]
    },
    {
      "cell_type": "code",
      "metadata": {
        "colab": {
          "base_uri": "https://localhost:8080/",
          "height": 357
        },
        "id": "cqecmRY3KdIY",
        "outputId": "3d1cf264-b551-4aad-dc53-f33345192ba8"
      },
      "source": [
        "word_cloud_text = ''.join(df['Text'])\n",
        "\n",
        "wordcloud = WordCloud(max_font_size=100, # Maximum font size for the largest word\n",
        "                      max_words=100, # The maximum number of words\n",
        "                      background_color=\"white\", # Background color for the word cloud image\n",
        "                      scale = 10, # Scaling between computation and drawing\n",
        "                      width=800, # Width of the canvas\n",
        "                      height=400 # Height of the canvas\n",
        "                     ).generate(word_cloud_text)\n",
        "\n",
        "plt.figure()\n",
        "plt.imshow(wordcloud, \n",
        "           interpolation=\"bilinear\") # to make the displayed image appear more smoothly\n",
        "plt.axis(\"off\")\n",
        "plt.show()"
      ],
      "execution_count": 10,
      "outputs": [
        {
          "output_type": "display_data",
          "data": {
            "image/png": "[encoded data removed]",
            "text/plain": [
              "<Figure size 1008x432 with 1 Axes>"
            ]
          },
          "metadata": {
            "tags": []
          }
        }
      ]
    },
    {
      "cell_type": "markdown",
      "metadata": {
        "id": "cZE-5W-gZl37"
      },
      "source": [
        "The word cloud indicates that many of the reviews talk about food-related things - coffee, flavor, food, taste, drink. We also see some positive words like good, love, best, as well as not desired ones such as br (line break), many (determiner) and something (adverb)."
      ]
    },
    {
      "cell_type": "markdown",
      "metadata": {
        "id": "Yy_MatNmZ8fq"
      },
      "source": [
        "# **Standardizing the ratings for sentiment analysis (5 mts)**\n",
        "\n",
        "For the purposes of sentiment analysis, we will convert all of the ratings into binary values using the follow rule:\n",
        "\n",
        "*   Ratings of 4 or 5 will get mapped to 1 and will be reltead to positive reviews\n",
        "*   Ratings of 1 or 2 will get mapped to 0 and will be related to negative reviews\n",
        "*   Ratings of 3 will get removed since they will represent neutral reviews."
      ]
    },
    {
      "cell_type": "code",
      "metadata": {
        "colab": {
          "base_uri": "https://localhost:8080/"
        },
        "id": "dh9bsynsXc19",
        "outputId": "9df1b107-dc20-4c99-db27-6b7fecbf00aa"
      },
      "source": [
        "# Mapping the rating \n",
        "df['Sentiment_rating'] = np.where(df.Score > 3,1,0)  # np.where(condition, [x, y])\n",
        "\n",
        "## Removing netural review\n",
        "df = df[df.Score != 3]\n",
        "\n",
        "# Printing the counts of each class\n",
        "df['Sentiment_rating'].value_counts()"
      ],
      "execution_count": 11,
      "outputs": [
        {
          "output_type": "execute_result",
          "data": {
            "text/plain": [
              "1    7616\n",
              "0    1522\n",
              "Name: Sentiment_rating, dtype: int64"
            ]
          },
          "metadata": {
            "tags": []
          },
          "execution_count": 11
        }
      ]
    },
    {
      "cell_type": "code",
      "metadata": {
        "colab": {
          "base_uri": "https://localhost:8080/",
          "height": 374
        },
        "id": "TPLK3RxFdVH5",
        "outputId": "c281a94b-1c1a-48af-e620-5614d8d3afc7"
      },
      "source": [
        "df.Sentiment_rating.value_counts().plot.bar()\n",
        "plt.xticks(rotation=0)\n",
        "plt.show()"
      ],
      "execution_count": 12,
      "outputs": [
        {
          "output_type": "display_data",
          "data": {
            "image/png": "[encoded data removed]",
            "text/plain": [
              "<Figure size 1008x432 with 1 Axes>"
            ]
          },
          "metadata": {
            "tags": []
          }
        }
      ]
    },
    {
      "cell_type": "markdown",
      "metadata": {
        "id": "sWZU6LuJ0Wm8"
      },
      "source": [
        "There is a class imbalance that we are going to handle by defining robust metrics."
      ]
    },
    {
      "cell_type": "markdown",
      "metadata": {
        "id": "QW0sQSly1qF8"
      },
      "source": [
        "# **Pre-processing**\n",
        "\n",
        "As discussed previously, text preprocessing and normalization is crucial before building a proper NLP model. Some of the important steps are:\n",
        "\n",
        "1. Converting words to lower/upper case\n",
        "2. Removing special characters\n",
        "3. Removing stopwords and high/low-frequency words\n",
        "4. Stemming/lemmatization"
      ]
    },
    {
      "cell_type": "markdown",
      "metadata": {
        "id": "VSWu_MWK17nd"
      },
      "source": [
        "### **1. Converting words to lower/upper case**\n",
        "\n",
        "Let's start by converting all of the words into a consistent case format, say lowercase:"
      ]
    },
    {
      "cell_type": "code",
      "metadata": {
        "id": "B0bMGr2kdyDo"
      },
      "source": [
        "df['reviews_text_new'] = df['Text'].str.lower()"
      ],
      "execution_count": 13,
      "outputs": []
    },
    {
      "cell_type": "markdown",
      "metadata": {
        "id": "BHcEn-Zj3tbv"
      },
      "source": [
        "In the following code cell we analyze the number of unique words that are found in reviews before and after applying this step. This process of extracting individual words is called word tokenization, and can be run using the word_tokenize function in the nltk package:"
      ]
    },
    {
      "cell_type": "code",
      "metadata": {
        "colab": {
          "base_uri": "https://localhost:8080/"
        },
        "id": "20rUFW_13mPd",
        "outputId": "744e1773-80d3-4469-f17a-dfd3c0a41d56"
      },
      "source": [
        "from nltk import word_tokenize\n",
        "nltk.download('punkt')\n",
        "\n",
        "# Word tokenization example:\n",
        "word_tokenize(\"DPhi Bootcamp rules. It is awesome :D\")"
      ],
      "execution_count": 15,
      "outputs": [
        {
          "output_type": "stream",
          "text": [
            "[nltk_data] Downloading package punkt to /root/nltk_data...\n",
            "[nltk_data]   Unzipping tokenizers/punkt.zip.\n"
          ],
          "name": "stdout"
        },
        {
          "output_type": "execute_result",
          "data": {
            "text/plain": [
              "['DPhi', 'Bootcamp', 'rules', '.', 'It', 'is', 'awesome', ':', 'D']"
            ]
          },
          "metadata": {
            "tags": []
          },
          "execution_count": 15
        }
      ]
    },
    {
      "cell_type": "code",
      "metadata": {
        "colab": {
          "base_uri": "https://localhost:8080/"
        },
        "id": "1v71tEn3JsvX",
        "outputId": "c4b0e573-22b7-4aa0-a96d-a40ce544d864"
      },
      "source": [
        "# for reviews not converted to time lower case\n",
        "token_lists = [word_tokenize(each) for each in df['Text']]\n",
        "tokens =[item for sublist in token_lists for item in sublist]\n",
        "print(\"Number of unique token than: \", len(set(tokens)))\n",
        "\n",
        "# For reviews converted to lower case\n",
        "token_lists_lower = [word_tokenize(each) for each in df['reviews_text_new']]\n",
        "tokens_lower = [item for sublist in token_lists_lower for item in sublist]\n",
        "print(\"Number of unique token now: \", len(set(tokens_lower)))"
      ],
      "execution_count": 16,
      "outputs": [
        {
          "output_type": "stream",
          "text": [
            "Number of unique token than:  27899\n",
            "Number of unique token now:  22865\n"
          ],
          "name": "stdout"
        }
      ]
    },
    {
      "cell_type": "markdown",
      "metadata": {
        "id": "pUPtFaVDO3M8"
      },
      "source": [
        "The number of tokens has gone down by ~18% just from normalizing the corpus."
      ]
    },
    {
      "cell_type": "markdown",
      "metadata": {
        "id": "OJql_OGpQvb5"
      },
      "source": [
        "Removing special characters is a subjective call, especially in cases like this one. People often use special characters to express their emotions and might leave a review like 'This product is the worst!!!', while a positive review could be like 'This product is the best. Loved it!'. Here, the presence of exclamation marks clearly indicates something about the underlying sentiment, so removing them may well not be a good idea.\n",
        "\n",
        "On the other hand, removing non-emotionally charged punctuation such as commas, periods, and semicolons is likely safe."
      ]
    },
    {
      "cell_type": "markdown",
      "metadata": {
        "id": "GtQdsSXqQ3Bq"
      },
      "source": [
        "### **2. Removing special characters**\n",
        "\n",
        "For the sake of simplicity, we will proceed by removing all of the special characters; however, it pays to keep in mind that this is something to revisit depending on the results we get later. The following gives a list of all the special characters in our dataset:"
      ]
    },
    {
      "cell_type": "code",
      "metadata": {
        "colab": {
          "base_uri": "https://localhost:8080/"
        },
        "id": "qFQ0LhSGML0g",
        "outputId": "735dda11-4746-4922-e536-2499a9c1debd"
      },
      "source": [
        "### Selecting non alpha numeric charactes that are not spaces\n",
        "spl_chars = df['reviews_text_new'].apply(lambda review: \n",
        "                                                     [char for char in list(review) if not char.isalnum() and char != ' '])\n",
        "\n",
        "## Getting list of list into a single list\n",
        "flat_list = [item for sublist in spl_chars for item in sublist]\n",
        "\n",
        "## Unique special characters\n",
        "set(flat_list)"
      ],
      "execution_count": 17,
      "outputs": [
        {
          "output_type": "execute_result",
          "data": {
            "text/plain": [
              "{'!',\n",
              " '\"',\n",
              " '#',\n",
              " '$',\n",
              " '%',\n",
              " '&',\n",
              " \"'\",\n",
              " '(',\n",
              " ')',\n",
              " '*',\n",
              " '+',\n",
              " ',',\n",
              " '-',\n",
              " '.',\n",
              " '/',\n",
              " ':',\n",
              " ';',\n",
              " '<',\n",
              " '=',\n",
              " '>',\n",
              " '?',\n",
              " '@',\n",
              " '[',\n",
              " ']',\n",
              " '^',\n",
              " '_',\n",
              " '`',\n",
              " '{',\n",
              " '}',\n",
              " '~',\n",
              " '§',\n",
              " '®'}"
            ]
          },
          "metadata": {
            "tags": []
          },
          "execution_count": 17
        }
      ]
    },
    {
      "cell_type": "markdown",
      "metadata": {
        "id": "BK69HT5fVOxa"
      },
      "source": [
        "Let's remove these special characters from the reviews by applying a regular expression:"
      ]
    },
    {
      "cell_type": "code",
      "metadata": {
        "id": "M4gaYEh3Ovel"
      },
      "source": [
        "review_backup = df['reviews_text_new'].copy()\n",
        "df['reviews_text_new'] = df['reviews_text_new'].str.replace(r'[^A-Za-z0-9 ]+', ' ')"
      ],
      "execution_count": 18,
      "outputs": []
    },
    {
      "cell_type": "markdown",
      "metadata": {
        "id": "M392w20ZVyUK"
      },
      "source": [
        "Let's decomose the regular expression [^A-Za-z0-9 ]+:\n",
        "\n",
        "\n",
        "\n",
        "*   [ ]: match any character inside the list defined by the square brackets, including the space character ' '\n",
        "*    ^: start of the line\n",
        "\n",
        "*   A-Z: accept english upper case characters from A to Z\n",
        "*   a-z: accept english lower case characters from a to z\n",
        "\n",
        "*   0-9: accept single number characters from 0 to 9"
      ]
    },
    {
      "cell_type": "markdown",
      "metadata": {
        "id": "Zv54wGqnWzvd"
      },
      "source": [
        "We can see how our reviews change after removing these:"
      ]
    },
    {
      "cell_type": "code",
      "metadata": {
        "colab": {
          "base_uri": "https://localhost:8080/"
        },
        "id": "SqHmxG-tVsuJ",
        "outputId": "e3f0926d-89d6-4b8f-96a7-4fa80a7664cd"
      },
      "source": [
        "print(\"- Old Review -\")\n",
        "print(review_backup.values[6])\n",
        "print(\"\\n- New Review -\")\n",
        "print(df['reviews_text_new'][6])"
      ],
      "execution_count": 19,
      "outputs": [
        {
          "output_type": "stream",
          "text": [
            "- Old Review -\n",
            "this saltwater taffy had great flavors and was very soft and chewy.  each candy was individually wrapped well.  none of the candies were stuck together, which did happen in the expensive version, fralinger's.  would highly recommend this candy!  i served it at a beach-themed party and everyone loved it!\n",
            "\n",
            "- New Review -\n",
            "this saltwater taffy had great flavors and was very soft and chewy   each candy was individually wrapped well   none of the candies were stuck together  which did happen in the expensive version  fralinger s   would highly recommend this candy   i served it at a beach themed party and everyone loved it \n"
          ],
          "name": "stdout"
        }
      ]
    },
    {
      "cell_type": "markdown",
      "metadata": {
        "id": "cX2c8Asgc1Lq"
      },
      "source": [
        "The number of unique tokens has dropped further:"
      ]
    },
    {
      "cell_type": "code",
      "metadata": {
        "colab": {
          "base_uri": "https://localhost:8080/"
        },
        "id": "HCA4-xRLWy1g",
        "outputId": "cbf28a04-67b8-4db5-a01c-3d3d8d5f5add"
      },
      "source": [
        "token_lists = [word_tokenize(each) for each in df['Text']]\n",
        "tokens = [item for sublist in token_lists for item in sublist]\n",
        "print(\"Number of unique tokens then: \",len(set(tokens)))\n",
        "\n",
        "token_lists = [word_tokenize(each) for each in df['reviews_text_new']]\n",
        "tokens = [item for sublist in token_lists for item in sublist]\n",
        "print(\"Number of unique tokens now: \",len(set(tokens)))"
      ],
      "execution_count": 20,
      "outputs": [
        {
          "output_type": "stream",
          "text": [
            "Number of unique tokens then:  27899\n",
            "Number of unique tokens now:  18039\n"
          ],
          "name": "stdout"
        }
      ]
    },
    {
      "cell_type": "markdown",
      "metadata": {
        "id": "0zeyUiR9dJPe"
      },
      "source": [
        "### **3. Stopwords and high/low frequency words**\n",
        "\n",
        "As discussed before, stopwords naturally occur very frequently in the English language without adding any context specific insights. It makes sense to remove them. Let's first review what languages are available in the nltk package:"
      ]
    },
    {
      "cell_type": "code",
      "metadata": {
        "colab": {
          "base_uri": "https://localhost:8080/"
        },
        "id": "4Dchwl60cz3j",
        "outputId": "bbe05514-208a-412c-b830-5e47f213318d"
      },
      "source": [
        "from nltk.corpus import stopwords\n",
        "nltk.download('stopwords')\n",
        "\n",
        "print('Available languages for NLTK v.3.4.5: ')\n",
        "print(stopwords.fileids())"
      ],
      "execution_count": 22,
      "outputs": [
        {
          "output_type": "stream",
          "text": [
            "[nltk_data] Downloading package stopwords to /root/nltk_data...\n",
            "[nltk_data]   Unzipping corpora/stopwords.zip.\n",
            "Available languages for NLTK v.3.4.5: \n",
            "['arabic', 'azerbaijani', 'danish', 'dutch', 'english', 'finnish', 'french', 'german', 'greek', 'hungarian', 'indonesian', 'italian', 'kazakh', 'nepali', 'norwegian', 'portuguese', 'romanian', 'russian', 'slovene', 'spanish', 'swedish', 'tajik', 'turkish']\n"
          ],
          "name": "stdout"
        }
      ]
    },
    {
      "cell_type": "markdown",
      "metadata": {
        "id": "8FRC7peNd56s"
      },
      "source": [
        "Let's now review the list of English stopwords:"
      ]
    },
    {
      "cell_type": "code",
      "metadata": {
        "colab": {
          "base_uri": "https://localhost:8080/"
        },
        "id": "6g1Gpt_bdRKw",
        "outputId": "87d4b9b1-ec78-485b-cdec-ad0689038293"
      },
      "source": [
        "noise_words = []\n",
        "eng_stop_words = stopwords.words('english')\n",
        "eng_stop_words"
      ],
      "execution_count": 23,
      "outputs": [
        {
          "output_type": "execute_result",
          "data": {
            "text/plain": [
              "['i',\n",
              " 'me',\n",
              " 'my',\n",
              " 'myself',\n",
              " 'we',\n",
              " 'our',\n",
              " 'ours',\n",
              " 'ourselves',\n",
              " 'you',\n",
              " \"you're\",\n",
              " \"you've\",\n",
              " \"you'll\",\n",
              " \"you'd\",\n",
              " 'your',\n",
              " 'yours',\n",
              " 'yourself',\n",
              " 'yourselves',\n",
              " 'he',\n",
              " 'him',\n",
              " 'his',\n",
              " 'himself',\n",
              " 'she',\n",
              " \"she's\",\n",
              " 'her',\n",
              " 'hers',\n",
              " 'herself',\n",
              " 'it',\n",
              " \"it's\",\n",
              " 'its',\n",
              " 'itself',\n",
              " 'they',\n",
              " 'them',\n",
              " 'their',\n",
              " 'theirs',\n",
              " 'themselves',\n",
              " 'what',\n",
              " 'which',\n",
              " 'who',\n",
              " 'whom',\n",
              " 'this',\n",
              " 'that',\n",
              " \"that'll\",\n",
              " 'these',\n",
              " 'those',\n",
              " 'am',\n",
              " 'is',\n",
              " 'are',\n",
              " 'was',\n",
              " 'were',\n",
              " 'be',\n",
              " 'been',\n",
              " 'being',\n",
              " 'have',\n",
              " 'has',\n",
              " 'had',\n",
              " 'having',\n",
              " 'do',\n",
              " 'does',\n",
              " 'did',\n",
              " 'doing',\n",
              " 'a',\n",
              " 'an',\n",
              " 'the',\n",
              " 'and',\n",
              " 'but',\n",
              " 'if',\n",
              " 'or',\n",
              " 'because',\n",
              " 'as',\n",
              " 'until',\n",
              " 'while',\n",
              " 'of',\n",
              " 'at',\n",
              " 'by',\n",
              " 'for',\n",
              " 'with',\n",
              " 'about',\n",
              " 'against',\n",
              " 'between',\n",
              " 'into',\n",
              " 'through',\n",
              " 'during',\n",
              " 'before',\n",
              " 'after',\n",
              " 'above',\n",
              " 'below',\n",
              " 'to',\n",
              " 'from',\n",
              " 'up',\n",
              " 'down',\n",
              " 'in',\n",
              " 'out',\n",
              " 'on',\n",
              " 'off',\n",
              " 'over',\n",
              " 'under',\n",
              " 'again',\n",
              " 'further',\n",
              " 'then',\n",
              " 'once',\n",
              " 'here',\n",
              " 'there',\n",
              " 'when',\n",
              " 'where',\n",
              " 'why',\n",
              " 'how',\n",
              " 'all',\n",
              " 'any',\n",
              " 'both',\n",
              " 'each',\n",
              " 'few',\n",
              " 'more',\n",
              " 'most',\n",
              " 'other',\n",
              " 'some',\n",
              " 'such',\n",
              " 'no',\n",
              " 'nor',\n",
              " 'not',\n",
              " 'only',\n",
              " 'own',\n",
              " 'same',\n",
              " 'so',\n",
              " 'than',\n",
              " 'too',\n",
              " 'very',\n",
              " 's',\n",
              " 't',\n",
              " 'can',\n",
              " 'will',\n",
              " 'just',\n",
              " 'don',\n",
              " \"don't\",\n",
              " 'should',\n",
              " \"should've\",\n",
              " 'now',\n",
              " 'd',\n",
              " 'll',\n",
              " 'm',\n",
              " 'o',\n",
              " 're',\n",
              " 've',\n",
              " 'y',\n",
              " 'ain',\n",
              " 'aren',\n",
              " \"aren't\",\n",
              " 'couldn',\n",
              " \"couldn't\",\n",
              " 'didn',\n",
              " \"didn't\",\n",
              " 'doesn',\n",
              " \"doesn't\",\n",
              " 'hadn',\n",
              " \"hadn't\",\n",
              " 'hasn',\n",
              " \"hasn't\",\n",
              " 'haven',\n",
              " \"haven't\",\n",
              " 'isn',\n",
              " \"isn't\",\n",
              " 'ma',\n",
              " 'mightn',\n",
              " \"mightn't\",\n",
              " 'mustn',\n",
              " \"mustn't\",\n",
              " 'needn',\n",
              " \"needn't\",\n",
              " 'shan',\n",
              " \"shan't\",\n",
              " 'shouldn',\n",
              " \"shouldn't\",\n",
              " 'wasn',\n",
              " \"wasn't\",\n",
              " 'weren',\n",
              " \"weren't\",\n",
              " 'won',\n",
              " \"won't\",\n",
              " 'wouldn',\n",
              " \"wouldn't\"]"
            ]
          },
          "metadata": {
            "tags": []
          },
          "execution_count": 23
        }
      ]
    },
    {
      "cell_type": "code",
      "metadata": {
        "colab": {
          "base_uri": "https://localhost:8080/"
        },
        "id": "eEsBLQrkd9de",
        "outputId": "9362bb8f-db4b-4ff2-ebe3-f2c886d74dc0"
      },
      "source": [
        "stop_words = set(eng_stop_words)\n",
        "without_stop_words = []\n",
        "stopword = []\n",
        "sentence = df['reviews_text_new'][0]\n",
        "words = nltk.word_tokenize(sentence)\n",
        "\n",
        "for word in words:\n",
        "    if word in stop_words:\n",
        "        stopword.append(word)\n",
        "    else:\n",
        "        without_stop_words.append(word)\n",
        "\n",
        "print('-- Original Sentence --\\n', sentence)\n",
        "print('\\n-- Stopwords in the sentence --\\n', stopword)\n",
        "print('\\n-- Non-stopwords in the sentence --\\n', without_stop_words)"
      ],
      "execution_count": 24,
      "outputs": [
        {
          "output_type": "stream",
          "text": [
            "-- Original Sentence --\n",
            " i have bought several of the vitality canned dog food products and have found them all to be of good quality  the product looks more like a stew than a processed meat and it smells better  my labrador is finicky and she appreciates this product better than  most \n",
            "\n",
            "-- Stopwords in the sentence --\n",
            " ['i', 'have', 'of', 'the', 'and', 'have', 'them', 'all', 'to', 'be', 'of', 'the', 'more', 'a', 'than', 'a', 'and', 'it', 'my', 'is', 'and', 'she', 'this', 'than', 'most']\n",
            "\n",
            "-- Non-stopwords in the sentence --\n",
            " ['bought', 'several', 'vitality', 'canned', 'dog', 'food', 'products', 'found', 'good', 'quality', 'product', 'looks', 'like', 'stew', 'processed', 'meat', 'smells', 'better', 'labrador', 'finicky', 'appreciates', 'product', 'better']\n"
          ],
          "name": "stdout"
        }
      ]
    },
    {
      "cell_type": "markdown",
      "metadata": {
        "id": "yWYYX_yagU0D"
      },
      "source": [
        "Let's see how we omit these stopwords from our reviews:"
      ]
    },
    {
      "cell_type": "code",
      "metadata": {
        "colab": {
          "base_uri": "https://localhost:8080/",
          "height": 419
        },
        "id": "t8ZpaQdreBma",
        "outputId": "0af44eaa-51bd-4376-991f-bf781f79e3a8"
      },
      "source": [
        "def stopwords_removal(stop_words, sentence):\n",
        "    return [word for word in nltk.word_tokenize(sentence) if word not in stop_words]\n",
        "\n",
        "df['reviews_text_nonstop'] = df['reviews_text_new'].apply(lambda row: stopwords_removal(stop_words, row))\n",
        "df[['reviews_text_new','reviews_text_nonstop']]"
      ],
      "execution_count": 25,
      "outputs": [
        {
          "output_type": "execute_result",
          "data": {
            "text/html": [
              "<div>\n",
              "<style scoped>\n",
              "    .dataframe tbody tr th:only-of-type {\n",
              "        vertical-align: middle;\n",
              "    }\n",
              "\n",
              "    .dataframe tbody tr th {\n",
              "        vertical-align: top;\n",
              "    }\n",
              "\n",
              "    .dataframe thead th {\n",
              "        text-align: right;\n",
              "    }\n",
              "</style>\n",
              "<table border=\"1\" class=\"dataframe\">\n",
              "  <thead>\n",
              "    <tr style=\"text-align: right;\">\n",
              "      <th></th>\n",
              "      <th>reviews_text_new</th>\n",
              "      <th>reviews_text_nonstop</th>\n",
              "    </tr>\n",
              "  </thead>\n",
              "  <tbody>\n",
              "    <tr>\n",
              "      <th>0</th>\n",
              "      <td>i have bought several of the vitality canned d...</td>\n",
              "      <td>[bought, several, vitality, canned, dog, food,...</td>\n",
              "    </tr>\n",
              "    <tr>\n",
              "      <th>1</th>\n",
              "      <td>product arrived labeled as jumbo salted peanut...</td>\n",
              "      <td>[product, arrived, labeled, jumbo, salted, pea...</td>\n",
              "    </tr>\n",
              "    <tr>\n",
              "      <th>2</th>\n",
              "      <td>this is a confection that has been around a fe...</td>\n",
              "      <td>[confection, around, centuries, light, pillowy...</td>\n",
              "    </tr>\n",
              "    <tr>\n",
              "      <th>3</th>\n",
              "      <td>if you are looking for the secret ingredient i...</td>\n",
              "      <td>[looking, secret, ingredient, robitussin, beli...</td>\n",
              "    </tr>\n",
              "    <tr>\n",
              "      <th>4</th>\n",
              "      <td>great taffy at a great price   there was a wid...</td>\n",
              "      <td>[great, taffy, great, price, wide, assortment,...</td>\n",
              "    </tr>\n",
              "    <tr>\n",
              "      <th>...</th>\n",
              "      <td>...</td>\n",
              "      <td>...</td>\n",
              "    </tr>\n",
              "    <tr>\n",
              "      <th>9995</th>\n",
              "      <td>we switched from the advance similac to the or...</td>\n",
              "      <td>[switched, advance, similac, organic, product,...</td>\n",
              "    </tr>\n",
              "    <tr>\n",
              "      <th>9996</th>\n",
              "      <td>like the bad reviews say  the organic formula ...</td>\n",
              "      <td>[like, bad, reviews, say, organic, formula, co...</td>\n",
              "    </tr>\n",
              "    <tr>\n",
              "      <th>9997</th>\n",
              "      <td>i wanted to solely breastfeed but was unable t...</td>\n",
              "      <td>[wanted, solely, breastfeed, unable, keep, sup...</td>\n",
              "    </tr>\n",
              "    <tr>\n",
              "      <th>9998</th>\n",
              "      <td>i love the fact that i can get this delieved t...</td>\n",
              "      <td>[love, fact, get, delieved, house, delievy, ch...</td>\n",
              "    </tr>\n",
              "    <tr>\n",
              "      <th>9999</th>\n",
              "      <td>we have a 7 week old  he had gas and constipat...</td>\n",
              "      <td>[7, week, old, gas, constipation, problems, fi...</td>\n",
              "    </tr>\n",
              "  </tbody>\n",
              "</table>\n",
              "<p>9138 rows × 2 columns</p>\n",
              "</div>"
            ],
            "text/plain": [
              "                                       reviews_text_new                               reviews_text_nonstop\n",
              "0     i have bought several of the vitality canned d...  [bought, several, vitality, canned, dog, food,...\n",
              "1     product arrived labeled as jumbo salted peanut...  [product, arrived, labeled, jumbo, salted, pea...\n",
              "2     this is a confection that has been around a fe...  [confection, around, centuries, light, pillowy...\n",
              "3     if you are looking for the secret ingredient i...  [looking, secret, ingredient, robitussin, beli...\n",
              "4     great taffy at a great price   there was a wid...  [great, taffy, great, price, wide, assortment,...\n",
              "...                                                 ...                                                ...\n",
              "9995  we switched from the advance similac to the or...  [switched, advance, similac, organic, product,...\n",
              "9996  like the bad reviews say  the organic formula ...  [like, bad, reviews, say, organic, formula, co...\n",
              "9997  i wanted to solely breastfeed but was unable t...  [wanted, solely, breastfeed, unable, keep, sup...\n",
              "9998  i love the fact that i can get this delieved t...  [love, fact, get, delieved, house, delievy, ch...\n",
              "9999  we have a 7 week old  he had gas and constipat...  [7, week, old, gas, constipation, problems, fi...\n",
              "\n",
              "[9138 rows x 2 columns]"
            ]
          },
          "metadata": {
            "tags": []
          },
          "execution_count": 25
        }
      ]
    },
    {
      "cell_type": "markdown",
      "metadata": {
        "id": "p_KPIjPjg4wJ"
      },
      "source": [
        "### **4. Stemming & lemmatization**\n",
        "\n",
        "Now we are ready for the last part of our pre-processing - **stemming & lemmatization**.\n",
        "\n",
        "Different forms of a word often communicate essentially the same meaning. For example, there’s probably no difference in intent between a search for shoe and a search for shoes. The same word may also appear in different tenses; e.g. \"run\", \"ran\", and \"running\". These syntactic differences between word forms are called **inflections**. In general, we probably want to treat inflections identically when extracting features from the text.\n",
        "\n",
        "Sometimes this process is nearly-reversible and quite safe (e.g. replacing verbs with their infinitive, so that \"run\", \"runs\", and \"running\" all become \"run\"). Other times it is a bit dangerous and context-dependant (e.g. replacing superlatives with their base form, so that \"good\", \"better\", and \"best\" all become \"good\"). The more aggressive you are, the greater the potential rewards and risks. For a very aggressive example, you might choose to replace \"Zeus\" and \"Jupiter\" with \"Zeus\" only; this might be OK if you are summarizing myths, confusing if you are working on astronomy, and disastrous if you are working on comparative mythology.\n",
        "\n",
        "We won't get into the details of the differences between stemming, lemmatization and other types of text normalization here. Please review the following resource for detailed explanation: https://nlp.stanford.edu/IR-book/html/htmledition/stemming-and-lemmatization-1.html.\n",
        "\n",
        "**Stemming** works by cutting off the end or the beginning of the word, taking into account a list of common prefixes and suffixes that can be found.\n",
        "\n",
        "**Lemmatization** takes into consideration the morphological analysis of the words. So lemmatization considers the grammar of the word and tries to find the root word instead of just getting to the root word by brute force methods."
      ]
    },
    {
      "cell_type": "code",
      "metadata": {
        "colab": {
          "base_uri": "https://localhost:8080/"
        },
        "id": "ZULY0h0bgZKO",
        "outputId": "0e223706-086e-409e-b76b-20b9551641a4"
      },
      "source": [
        "from nltk.stem import PorterStemmer, LancasterStemmer # Common stemmers\n",
        "from nltk.stem import WordNetLemmatizer # Common Lematizer\n",
        "nltk.download('wordnet')\n",
        "from nltk.corpus import wordnet\n",
        "\n",
        "porter = PorterStemmer()\n",
        "lancaster = LancasterStemmer()\n",
        "lemmatizer = WordNetLemmatizer()"
      ],
      "execution_count": 26,
      "outputs": [
        {
          "output_type": "stream",
          "text": [
            "[nltk_data] Downloading package wordnet to /root/nltk_data...\n",
            "[nltk_data]   Unzipping corpora/wordnet.zip.\n"
          ],
          "name": "stdout"
        }
      ]
    },
    {
      "cell_type": "code",
      "metadata": {
        "colab": {
          "base_uri": "https://localhost:8080/"
        },
        "id": "CmODHP-9hSln",
        "outputId": "630a24a1-748f-4ea5-e2a3-4dcb9d9cf381"
      },
      "source": [
        "print(\"Lancaster Stemmer\")  # (gives mean selection of word)\n",
        "print(lancaster.stem(\"trouble\"))\n",
        "print(lancaster.stem(\"troubling\"))\n",
        "print(lancaster.stem(\"troubled\"))\n",
        "\n",
        "# Provide a word to be lemmatized \n",
        "print(\"WordNet Lemmatizer\") # (gives root of the word)\n",
        "print(lemmatizer.lemmatize(\"trouble\", wordnet.NOUN))\n",
        "print(lemmatizer.lemmatize(\"troubling\", wordnet.VERB))\n",
        "print(lemmatizer.lemmatize(\"troubled\", wordnet.VERB))"
      ],
      "execution_count": 27,
      "outputs": [
        {
          "output_type": "stream",
          "text": [
            "Lancaster Stemmer\n",
            "troubl\n",
            "troubl\n",
            "troubl\n",
            "WordNet Lemmatizer\n",
            "trouble\n",
            "trouble\n",
            "trouble\n"
          ],
          "name": "stdout"
        }
      ]
    },
    {
      "cell_type": "markdown",
      "metadata": {
        "id": "LMddT6xnjAyx"
      },
      "source": [
        "It can be seen that we get a meaning root word from Lemmatizer while Stemmer just cuts out and extracts the first important part of the word."
      ]
    },
    {
      "cell_type": "markdown",
      "metadata": {
        "id": "TEeFDD0cjHWq"
      },
      "source": [
        "# **Building a machine learning model**\n",
        "Now we have cleaned-up versions of two very important pieces of data – the actual review text and its corresponding sentiment rating:"
      ]
    },
    {
      "cell_type": "code",
      "metadata": {
        "colab": {
          "base_uri": "https://localhost:8080/",
          "height": 204
        },
        "id": "TRX71Jv8hV8l",
        "outputId": "1b445e95-0771-4022-ae6e-dc3e56e19cf6"
      },
      "source": [
        "df[['Text','Score','Sentiment_rating']].head(5)"
      ],
      "execution_count": 28,
      "outputs": [
        {
          "output_type": "execute_result",
          "data": {
            "text/html": [
              "<div>\n",
              "<style scoped>\n",
              "    .dataframe tbody tr th:only-of-type {\n",
              "        vertical-align: middle;\n",
              "    }\n",
              "\n",
              "    .dataframe tbody tr th {\n",
              "        vertical-align: top;\n",
              "    }\n",
              "\n",
              "    .dataframe thead th {\n",
              "        text-align: right;\n",
              "    }\n",
              "</style>\n",
              "<table border=\"1\" class=\"dataframe\">\n",
              "  <thead>\n",
              "    <tr style=\"text-align: right;\">\n",
              "      <th></th>\n",
              "      <th>Text</th>\n",
              "      <th>Score</th>\n",
              "      <th>Sentiment_rating</th>\n",
              "    </tr>\n",
              "  </thead>\n",
              "  <tbody>\n",
              "    <tr>\n",
              "      <th>0</th>\n",
              "      <td>I have bought several of the Vitality canned d...</td>\n",
              "      <td>5</td>\n",
              "      <td>1</td>\n",
              "    </tr>\n",
              "    <tr>\n",
              "      <th>1</th>\n",
              "      <td>Product arrived labeled as Jumbo Salted Peanut...</td>\n",
              "      <td>1</td>\n",
              "      <td>0</td>\n",
              "    </tr>\n",
              "    <tr>\n",
              "      <th>2</th>\n",
              "      <td>This is a confection that has been around a fe...</td>\n",
              "      <td>4</td>\n",
              "      <td>1</td>\n",
              "    </tr>\n",
              "    <tr>\n",
              "      <th>3</th>\n",
              "      <td>If you are looking for the secret ingredient i...</td>\n",
              "      <td>2</td>\n",
              "      <td>0</td>\n",
              "    </tr>\n",
              "    <tr>\n",
              "      <th>4</th>\n",
              "      <td>Great taffy at a great price.  There was a wid...</td>\n",
              "      <td>5</td>\n",
              "      <td>1</td>\n",
              "    </tr>\n",
              "  </tbody>\n",
              "</table>\n",
              "</div>"
            ],
            "text/plain": [
              "                                                Text  Score  Sentiment_rating\n",
              "0  I have bought several of the Vitality canned d...      5                 1\n",
              "1  Product arrived labeled as Jumbo Salted Peanut...      1                 0\n",
              "2  This is a confection that has been around a fe...      4                 1\n",
              "3  If you are looking for the secret ingredient i...      2                 0\n",
              "4  Great taffy at a great price.  There was a wid...      5                 1"
            ]
          },
          "metadata": {
            "tags": []
          },
          "execution_count": 28
        }
      ]
    },
    {
      "cell_type": "markdown",
      "metadata": {
        "id": "npdUuP63jveH"
      },
      "source": [
        "The independent variables or model features are derived from the review text. Previously, we discussed how we can use n-grams to create features, and specifically how bag-of-words is the simplest interpretation of these n-grams, disregarding order and context entirely and only focusing on frequency/count. Let's use that as a starting point.\n",
        "\n",
        "Conversely, reading each of the reviews, it is clear that, for instance, \"good\" is mentioned in context like \"not as good\" or \"sounds good\". This indicates that in the world of text we cannot go by single words (also called 1-grams) alone. The context of the sentence or the surrounding words at least are very much necessary to understand the sentiment of a sentence.\n",
        "\n",
        "# **n-grams**\n",
        "\n",
        "Since 1-grams are sometimes insufficient to understand the significance of certain words in our text, it is natural to consider blocks of words, or **n-grams**.\n",
        "\n",
        "The simplest version of the n-gram model, for n>1, is the **bigram** model, which looks at pairs of consecutive words. For example, the sentence \"The quick brown fox jumps over the lazy dog\" would have tokens \"the quick\", \"quick brown\",..., \"lazy dog\". The following image (source: http://recognize-speech.com/language-model/n-gram-model/comparison) explains this concept:\n"
      ]
    },
    {
      "cell_type": "markdown",
      "metadata": {
        "id": "lV4dGAYuloB5"
      },
      "source": [
        "![title](https://images.deepai.org/glossary-terms/867de904ba9b46869af29cead3194b6c/8ARA1.png)"
      ]
    },
    {
      "cell_type": "markdown",
      "metadata": {
        "id": "zuDczSZRly8V"
      },
      "source": [
        "This has obvious advantages and disadvantages over looking at words individually:\n",
        "\n",
        "*   **Advantages:**\n",
        "\n",
        "1.   Retains the structure of the overall document, and\n",
        "2.   Paves the way for analyzing words in context\n",
        "\n",
        "*   **Disadvantages:**\n",
        "\n",
        "1.   The dimension is vastly larger\n",
        "\n",
        "In practice, this last challenge can be truly daunting. As an example, War and Peace has 3 million characters, which translates to several hundred thousand 1-grams (words). If you consider that the set of all possible bigrams can be as large as the square of the number of 1-grams, this gets us to a **hundred billion possible bigrams!** If classical ML techniques are not suitable for training on 3 million characters, how can they possibly deal with a hundred billion dimensions?\n",
        "\n",
        "For this reason, it is often prudent to start by extracting as much value out of 1-grams as possible, before working our way up to more complex structures.\n",
        "\n",
        "Let's look at an example of extracting n-grams over a proposed sentence:"
      ]
    },
    {
      "cell_type": "markdown",
      "metadata": {
        "id": "wiS3JYkJmKee"
      },
      "source": [
        "Let's look at an example of extracting n-grams over a proposed sentence:"
      ]
    },
    {
      "cell_type": "code",
      "metadata": {
        "colab": {
          "base_uri": "https://localhost:8080/"
        },
        "id": "TU3PsPYzjRYa",
        "outputId": "5048eed8-13e4-41e0-aefb-e44bf506144b"
      },
      "source": [
        "from nltk import ngrams\n",
        "\n",
        "sentence = 'A bird in the hand worths two in the bush'\n",
        "\n",
        "for n in range(1, 6):\n",
        "    print(str(n) + '-grams:\\n', list(ngrams(sentence.split(), n)))"
      ],
      "execution_count": 29,
      "outputs": [
        {
          "output_type": "stream",
          "text": [
            "1-grams:\n",
            " [('A',), ('bird',), ('in',), ('the',), ('hand',), ('worths',), ('two',), ('in',), ('the',), ('bush',)]\n",
            "2-grams:\n",
            " [('A', 'bird'), ('bird', 'in'), ('in', 'the'), ('the', 'hand'), ('hand', 'worths'), ('worths', 'two'), ('two', 'in'), ('in', 'the'), ('the', 'bush')]\n",
            "3-grams:\n",
            " [('A', 'bird', 'in'), ('bird', 'in', 'the'), ('in', 'the', 'hand'), ('the', 'hand', 'worths'), ('hand', 'worths', 'two'), ('worths', 'two', 'in'), ('two', 'in', 'the'), ('in', 'the', 'bush')]\n",
            "4-grams:\n",
            " [('A', 'bird', 'in', 'the'), ('bird', 'in', 'the', 'hand'), ('in', 'the', 'hand', 'worths'), ('the', 'hand', 'worths', 'two'), ('hand', 'worths', 'two', 'in'), ('worths', 'two', 'in', 'the'), ('two', 'in', 'the', 'bush')]\n",
            "5-grams:\n",
            " [('A', 'bird', 'in', 'the', 'hand'), ('bird', 'in', 'the', 'hand', 'worths'), ('in', 'the', 'hand', 'worths', 'two'), ('the', 'hand', 'worths', 'two', 'in'), ('hand', 'worths', 'two', 'in', 'the'), ('worths', 'two', 'in', 'the', 'bush')]\n"
          ],
          "name": "stdout"
        }
      ]
    },
    {
      "cell_type": "markdown",
      "metadata": {
        "id": "sHmyqE1_mWDo"
      },
      "source": [
        "# **Bag-of-words**\n",
        "The bag-of-words procedure falls under a broader category of techniques known as **count-based representations**. These are techniques to analyze documents by indicating how frequently certain types of structures occur throughout.\n",
        "\n",
        "Let's start with 1-grams (words). The simplest type of information would be whether a particular word occurs in particular documents. This leads to **word-document co-occurrence matrices**, where the (W,X) entry of the word-document matrix is set to 1 if word W occurs in document X, and 0 otherwise.\n",
        "\n",
        "Let's create a word-document co-occurrence matrix for our set of reviews using the CountVectorizer class that automatically accounts for certain preprocessing steps like removing stopwords, stemming, creating n-grams, and word tokenization:"
      ]
    },
    {
      "cell_type": "code",
      "metadata": {
        "colab": {
          "base_uri": "https://localhost:8080/",
          "height": 253
        },
        "id": "WmwlYtbomNld",
        "outputId": "9e071f94-ae59-4f83-93ef-b931294c79c8"
      },
      "source": [
        "# The following code creates a word-document matrix. (is also parce metric )\n",
        "from sklearn.feature_extraction.text import CountVectorizer\n",
        "\n",
        "vec = CountVectorizer()\n",
        "X = vec.fit_transform(df['reviews_text_new'])\n",
        "df1 = pd.DataFrame(X.toarray(), columns = vec.get_feature_names())\n",
        "df1.head()"
      ],
      "execution_count": 30,
      "outputs": [
        {
          "output_type": "execute_result",
          "data": {
            "text/html": [
              "<div>\n",
              "<style scoped>\n",
              "    .dataframe tbody tr th:only-of-type {\n",
              "        vertical-align: middle;\n",
              "    }\n",
              "\n",
              "    .dataframe tbody tr th {\n",
              "        vertical-align: top;\n",
              "    }\n",
              "\n",
              "    .dataframe thead th {\n",
              "        text-align: right;\n",
              "    }\n",
              "</style>\n",
              "<table border=\"1\" class=\"dataframe\">\n",
              "  <thead>\n",
              "    <tr style=\"text-align: right;\">\n",
              "      <th></th>\n",
              "      <th>00</th>\n",
              "      <th>000</th>\n",
              "      <th>0003</th>\n",
              "      <th>000kwh</th>\n",
              "      <th>002</th>\n",
              "      <th>008</th>\n",
              "      <th>0100</th>\n",
              "      <th>0174</th>\n",
              "      <th>02</th>\n",
              "      <th>03</th>\n",
              "      <th>0303</th>\n",
              "      <th>032</th>\n",
              "      <th>03510</th>\n",
              "      <th>04</th>\n",
              "      <th>042608460503</th>\n",
              "      <th>0472066978</th>\n",
              "      <th>04830</th>\n",
              "      <th>05</th>\n",
              "      <th>06</th>\n",
              "      <th>062</th>\n",
              "      <th>07</th>\n",
              "      <th>0738551856</th>\n",
              "      <th>09</th>\n",
              "      <th>090</th>\n",
              "      <th>0g</th>\n",
              "      <th>0mg</th>\n",
              "      <th>0xk6hzpjrkaed855hewp</th>\n",
              "      <th>0z</th>\n",
              "      <th>10</th>\n",
              "      <th>100</th>\n",
              "      <th>1000</th>\n",
              "      <th>100ml</th>\n",
              "      <th>100s</th>\n",
              "      <th>100x</th>\n",
              "      <th>101</th>\n",
              "      <th>103</th>\n",
              "      <th>105</th>\n",
              "      <th>108</th>\n",
              "      <th>10g</th>\n",
              "      <th>10lb</th>\n",
              "      <th>...</th>\n",
              "      <th>zany</th>\n",
              "      <th>zap</th>\n",
              "      <th>zapp</th>\n",
              "      <th>zareba</th>\n",
              "      <th>zeal</th>\n",
              "      <th>zealand</th>\n",
              "      <th>zen</th>\n",
              "      <th>zero</th>\n",
              "      <th>zest</th>\n",
              "      <th>zesty</th>\n",
              "      <th>zevia</th>\n",
              "      <th>zhena</th>\n",
              "      <th>zico</th>\n",
              "      <th>ziggies</th>\n",
              "      <th>zilch</th>\n",
              "      <th>zin</th>\n",
              "      <th>zinc</th>\n",
              "      <th>zinfandels</th>\n",
              "      <th>zing</th>\n",
              "      <th>zinging</th>\n",
              "      <th>zip</th>\n",
              "      <th>ziploc</th>\n",
              "      <th>ziplock</th>\n",
              "      <th>zipper</th>\n",
              "      <th>zippy</th>\n",
              "      <th>zito</th>\n",
              "      <th>ziwipeak</th>\n",
              "      <th>zn</th>\n",
              "      <th>zojirushi</th>\n",
              "      <th>zola</th>\n",
              "      <th>zomg</th>\n",
              "      <th>zon</th>\n",
              "      <th>zoo</th>\n",
              "      <th>zoom</th>\n",
              "      <th>zotz</th>\n",
              "      <th>zucchini</th>\n",
              "      <th>zuke</th>\n",
              "      <th>zukes</th>\n",
              "      <th>zupas</th>\n",
              "      <th>zuppa</th>\n",
              "    </tr>\n",
              "  </thead>\n",
              "  <tbody>\n",
              "    <tr>\n",
              "      <th>0</th>\n",
              "      <td>0</td>\n",
              "      <td>0</td>\n",
              "      <td>0</td>\n",
              "      <td>0</td>\n",
              "      <td>0</td>\n",
              "      <td>0</td>\n",
              "      <td>0</td>\n",
              "      <td>0</td>\n",
              "      <td>0</td>\n",
              "      <td>0</td>\n",
              "      <td>0</td>\n",
              "      <td>0</td>\n",
              "      <td>0</td>\n",
              "      <td>0</td>\n",
              "      <td>0</td>\n",
              "      <td>0</td>\n",
              "      <td>0</td>\n",
              "      <td>0</td>\n",
              "      <td>0</td>\n",
              "      <td>0</td>\n",
              "      <td>0</td>\n",
              "      <td>0</td>\n",
              "      <td>0</td>\n",
              "      <td>0</td>\n",
              "      <td>0</td>\n",
              "      <td>0</td>\n",
              "      <td>0</td>\n",
              "      <td>0</td>\n",
              "      <td>0</td>\n",
              "      <td>0</td>\n",
              "      <td>0</td>\n",
              "      <td>0</td>\n",
              "      <td>0</td>\n",
              "      <td>0</td>\n",
              "      <td>0</td>\n",
              "      <td>0</td>\n",
              "      <td>0</td>\n",
              "      <td>0</td>\n",
              "      <td>0</td>\n",
              "      <td>0</td>\n",
              "      <td>...</td>\n",
              "      <td>0</td>\n",
              "      <td>0</td>\n",
              "      <td>0</td>\n",
              "      <td>0</td>\n",
              "      <td>0</td>\n",
              "      <td>0</td>\n",
              "      <td>0</td>\n",
              "      <td>0</td>\n",
              "      <td>0</td>\n",
              "      <td>0</td>\n",
              "      <td>0</td>\n",
              "      <td>0</td>\n",
              "      <td>0</td>\n",
              "      <td>0</td>\n",
              "      <td>0</td>\n",
              "      <td>0</td>\n",
              "      <td>0</td>\n",
              "      <td>0</td>\n",
              "      <td>0</td>\n",
              "      <td>0</td>\n",
              "      <td>0</td>\n",
              "      <td>0</td>\n",
              "      <td>0</td>\n",
              "      <td>0</td>\n",
              "      <td>0</td>\n",
              "      <td>0</td>\n",
              "      <td>0</td>\n",
              "      <td>0</td>\n",
              "      <td>0</td>\n",
              "      <td>0</td>\n",
              "      <td>0</td>\n",
              "      <td>0</td>\n",
              "      <td>0</td>\n",
              "      <td>0</td>\n",
              "      <td>0</td>\n",
              "      <td>0</td>\n",
              "      <td>0</td>\n",
              "      <td>0</td>\n",
              "      <td>0</td>\n",
              "      <td>0</td>\n",
              "    </tr>\n",
              "    <tr>\n",
              "      <th>1</th>\n",
              "      <td>0</td>\n",
              "      <td>0</td>\n",
              "      <td>0</td>\n",
              "      <td>0</td>\n",
              "      <td>0</td>\n",
              "      <td>0</td>\n",
              "      <td>0</td>\n",
              "      <td>0</td>\n",
              "      <td>0</td>\n",
              "      <td>0</td>\n",
              "      <td>0</td>\n",
              "      <td>0</td>\n",
              "      <td>0</td>\n",
              "      <td>0</td>\n",
              "      <td>0</td>\n",
              "      <td>0</td>\n",
              "      <td>0</td>\n",
              "      <td>0</td>\n",
              "      <td>0</td>\n",
              "      <td>0</td>\n",
              "      <td>0</td>\n",
              "      <td>0</td>\n",
              "      <td>0</td>\n",
              "      <td>0</td>\n",
              "      <td>0</td>\n",
              "      <td>0</td>\n",
              "      <td>0</td>\n",
              "      <td>0</td>\n",
              "      <td>0</td>\n",
              "      <td>0</td>\n",
              "      <td>0</td>\n",
              "      <td>0</td>\n",
              "      <td>0</td>\n",
              "      <td>0</td>\n",
              "      <td>0</td>\n",
              "      <td>0</td>\n",
              "      <td>0</td>\n",
              "      <td>0</td>\n",
              "      <td>0</td>\n",
              "      <td>0</td>\n",
              "      <td>...</td>\n",
              "      <td>0</td>\n",
              "      <td>0</td>\n",
              "      <td>0</td>\n",
              "      <td>0</td>\n",
              "      <td>0</td>\n",
              "      <td>0</td>\n",
              "      <td>0</td>\n",
              "      <td>0</td>\n",
              "      <td>0</td>\n",
              "      <td>0</td>\n",
              "      <td>0</td>\n",
              "      <td>0</td>\n",
              "      <td>0</td>\n",
              "      <td>0</td>\n",
              "      <td>0</td>\n",
              "      <td>0</td>\n",
              "      <td>0</td>\n",
              "      <td>0</td>\n",
              "      <td>0</td>\n",
              "      <td>0</td>\n",
              "      <td>0</td>\n",
              "      <td>0</td>\n",
              "      <td>0</td>\n",
              "      <td>0</td>\n",
              "      <td>0</td>\n",
              "      <td>0</td>\n",
              "      <td>0</td>\n",
              "      <td>0</td>\n",
              "      <td>0</td>\n",
              "      <td>0</td>\n",
              "      <td>0</td>\n",
              "      <td>0</td>\n",
              "      <td>0</td>\n",
              "      <td>0</td>\n",
              "      <td>0</td>\n",
              "      <td>0</td>\n",
              "      <td>0</td>\n",
              "      <td>0</td>\n",
              "      <td>0</td>\n",
              "      <td>0</td>\n",
              "    </tr>\n",
              "    <tr>\n",
              "      <th>2</th>\n",
              "      <td>0</td>\n",
              "      <td>0</td>\n",
              "      <td>0</td>\n",
              "      <td>0</td>\n",
              "      <td>0</td>\n",
              "      <td>0</td>\n",
              "      <td>0</td>\n",
              "      <td>0</td>\n",
              "      <td>0</td>\n",
              "      <td>0</td>\n",
              "      <td>0</td>\n",
              "      <td>0</td>\n",
              "      <td>0</td>\n",
              "      <td>0</td>\n",
              "      <td>0</td>\n",
              "      <td>0</td>\n",
              "      <td>0</td>\n",
              "      <td>0</td>\n",
              "      <td>0</td>\n",
              "      <td>0</td>\n",
              "      <td>0</td>\n",
              "      <td>0</td>\n",
              "      <td>0</td>\n",
              "      <td>0</td>\n",
              "      <td>0</td>\n",
              "      <td>0</td>\n",
              "      <td>0</td>\n",
              "      <td>0</td>\n",
              "      <td>0</td>\n",
              "      <td>0</td>\n",
              "      <td>0</td>\n",
              "      <td>0</td>\n",
              "      <td>0</td>\n",
              "      <td>0</td>\n",
              "      <td>0</td>\n",
              "      <td>0</td>\n",
              "      <td>0</td>\n",
              "      <td>0</td>\n",
              "      <td>0</td>\n",
              "      <td>0</td>\n",
              "      <td>...</td>\n",
              "      <td>0</td>\n",
              "      <td>0</td>\n",
              "      <td>0</td>\n",
              "      <td>0</td>\n",
              "      <td>0</td>\n",
              "      <td>0</td>\n",
              "      <td>0</td>\n",
              "      <td>0</td>\n",
              "      <td>0</td>\n",
              "      <td>0</td>\n",
              "      <td>0</td>\n",
              "      <td>0</td>\n",
              "      <td>0</td>\n",
              "      <td>0</td>\n",
              "      <td>0</td>\n",
              "      <td>0</td>\n",
              "      <td>0</td>\n",
              "      <td>0</td>\n",
              "      <td>0</td>\n",
              "      <td>0</td>\n",
              "      <td>0</td>\n",
              "      <td>0</td>\n",
              "      <td>0</td>\n",
              "      <td>0</td>\n",
              "      <td>0</td>\n",
              "      <td>0</td>\n",
              "      <td>0</td>\n",
              "      <td>0</td>\n",
              "      <td>0</td>\n",
              "      <td>0</td>\n",
              "      <td>0</td>\n",
              "      <td>0</td>\n",
              "      <td>0</td>\n",
              "      <td>0</td>\n",
              "      <td>0</td>\n",
              "      <td>0</td>\n",
              "      <td>0</td>\n",
              "      <td>0</td>\n",
              "      <td>0</td>\n",
              "      <td>0</td>\n",
              "    </tr>\n",
              "    <tr>\n",
              "      <th>3</th>\n",
              "      <td>0</td>\n",
              "      <td>0</td>\n",
              "      <td>0</td>\n",
              "      <td>0</td>\n",
              "      <td>0</td>\n",
              "      <td>0</td>\n",
              "      <td>0</td>\n",
              "      <td>0</td>\n",
              "      <td>0</td>\n",
              "      <td>0</td>\n",
              "      <td>0</td>\n",
              "      <td>0</td>\n",
              "      <td>0</td>\n",
              "      <td>0</td>\n",
              "      <td>0</td>\n",
              "      <td>0</td>\n",
              "      <td>0</td>\n",
              "      <td>0</td>\n",
              "      <td>0</td>\n",
              "      <td>0</td>\n",
              "      <td>0</td>\n",
              "      <td>0</td>\n",
              "      <td>0</td>\n",
              "      <td>0</td>\n",
              "      <td>0</td>\n",
              "      <td>0</td>\n",
              "      <td>0</td>\n",
              "      <td>0</td>\n",
              "      <td>0</td>\n",
              "      <td>0</td>\n",
              "      <td>0</td>\n",
              "      <td>0</td>\n",
              "      <td>0</td>\n",
              "      <td>0</td>\n",
              "      <td>0</td>\n",
              "      <td>0</td>\n",
              "      <td>0</td>\n",
              "      <td>0</td>\n",
              "      <td>0</td>\n",
              "      <td>0</td>\n",
              "      <td>...</td>\n",
              "      <td>0</td>\n",
              "      <td>0</td>\n",
              "      <td>0</td>\n",
              "      <td>0</td>\n",
              "      <td>0</td>\n",
              "      <td>0</td>\n",
              "      <td>0</td>\n",
              "      <td>0</td>\n",
              "      <td>0</td>\n",
              "      <td>0</td>\n",
              "      <td>0</td>\n",
              "      <td>0</td>\n",
              "      <td>0</td>\n",
              "      <td>0</td>\n",
              "      <td>0</td>\n",
              "      <td>0</td>\n",
              "      <td>0</td>\n",
              "      <td>0</td>\n",
              "      <td>0</td>\n",
              "      <td>0</td>\n",
              "      <td>0</td>\n",
              "      <td>0</td>\n",
              "      <td>0</td>\n",
              "      <td>0</td>\n",
              "      <td>0</td>\n",
              "      <td>0</td>\n",
              "      <td>0</td>\n",
              "      <td>0</td>\n",
              "      <td>0</td>\n",
              "      <td>0</td>\n",
              "      <td>0</td>\n",
              "      <td>0</td>\n",
              "      <td>0</td>\n",
              "      <td>0</td>\n",
              "      <td>0</td>\n",
              "      <td>0</td>\n",
              "      <td>0</td>\n",
              "      <td>0</td>\n",
              "      <td>0</td>\n",
              "      <td>0</td>\n",
              "    </tr>\n",
              "    <tr>\n",
              "      <th>4</th>\n",
              "      <td>0</td>\n",
              "      <td>0</td>\n",
              "      <td>0</td>\n",
              "      <td>0</td>\n",
              "      <td>0</td>\n",
              "      <td>0</td>\n",
              "      <td>0</td>\n",
              "      <td>0</td>\n",
              "      <td>0</td>\n",
              "      <td>0</td>\n",
              "      <td>0</td>\n",
              "      <td>0</td>\n",
              "      <td>0</td>\n",
              "      <td>0</td>\n",
              "      <td>0</td>\n",
              "      <td>0</td>\n",
              "      <td>0</td>\n",
              "      <td>0</td>\n",
              "      <td>0</td>\n",
              "      <td>0</td>\n",
              "      <td>0</td>\n",
              "      <td>0</td>\n",
              "      <td>0</td>\n",
              "      <td>0</td>\n",
              "      <td>0</td>\n",
              "      <td>0</td>\n",
              "      <td>0</td>\n",
              "      <td>0</td>\n",
              "      <td>0</td>\n",
              "      <td>0</td>\n",
              "      <td>0</td>\n",
              "      <td>0</td>\n",
              "      <td>0</td>\n",
              "      <td>0</td>\n",
              "      <td>0</td>\n",
              "      <td>0</td>\n",
              "      <td>0</td>\n",
              "      <td>0</td>\n",
              "      <td>0</td>\n",
              "      <td>0</td>\n",
              "      <td>...</td>\n",
              "      <td>0</td>\n",
              "      <td>0</td>\n",
              "      <td>0</td>\n",
              "      <td>0</td>\n",
              "      <td>0</td>\n",
              "      <td>0</td>\n",
              "      <td>0</td>\n",
              "      <td>0</td>\n",
              "      <td>0</td>\n",
              "      <td>0</td>\n",
              "      <td>0</td>\n",
              "      <td>0</td>\n",
              "      <td>0</td>\n",
              "      <td>0</td>\n",
              "      <td>0</td>\n",
              "      <td>0</td>\n",
              "      <td>0</td>\n",
              "      <td>0</td>\n",
              "      <td>0</td>\n",
              "      <td>0</td>\n",
              "      <td>0</td>\n",
              "      <td>0</td>\n",
              "      <td>0</td>\n",
              "      <td>0</td>\n",
              "      <td>0</td>\n",
              "      <td>0</td>\n",
              "      <td>0</td>\n",
              "      <td>0</td>\n",
              "      <td>0</td>\n",
              "      <td>0</td>\n",
              "      <td>0</td>\n",
              "      <td>0</td>\n",
              "      <td>0</td>\n",
              "      <td>0</td>\n",
              "      <td>0</td>\n",
              "      <td>0</td>\n",
              "      <td>0</td>\n",
              "      <td>0</td>\n",
              "      <td>0</td>\n",
              "      <td>0</td>\n",
              "    </tr>\n",
              "  </tbody>\n",
              "</table>\n",
              "<p>5 rows × 18005 columns</p>\n",
              "</div>"
            ],
            "text/plain": [
              "   00  000  0003  000kwh  002  008  ...  zotz  zucchini  zuke  zukes  zupas  zuppa\n",
              "0   0    0     0       0    0    0  ...     0         0     0      0      0      0\n",
              "1   0    0     0       0    0    0  ...     0         0     0      0      0      0\n",
              "2   0    0     0       0    0    0  ...     0         0     0      0      0      0\n",
              "3   0    0     0       0    0    0  ...     0         0     0      0      0      0\n",
              "4   0    0     0       0    0    0  ...     0         0     0      0      0      0\n",
              "\n",
              "[5 rows x 18005 columns]"
            ]
          },
          "metadata": {
            "tags": []
          },
          "execution_count": 30
        }
      ]
    },
    {
      "cell_type": "markdown",
      "metadata": {
        "id": "oV2Dkfi-mro5"
      },
      "source": [
        "Let's use this to create a bag of words from the reviews, excluding the noise words we identified earlier:"
      ]
    },
    {
      "cell_type": "code",
      "metadata": {
        "colab": {
          "base_uri": "https://localhost:8080/"
        },
        "id": "-f5SucClmkXH",
        "outputId": "3095a322-a251-4ba2-871a-4d88405bb850"
      },
      "source": [
        "### Creating a python object of the class CountVectorizer\n",
        "\n",
        "bow_counts = CountVectorizer(tokenizer= word_tokenize, # type of tokenization\n",
        "                             stop_words=noise_words, # List of stopwords\n",
        "                             ngram_range=(1,1)) # number of n-grams\n",
        "\n",
        "bow_data = bow_counts.fit_transform(df['reviews_text_new'])\n",
        "bow_data"
      ],
      "execution_count": 31,
      "outputs": [
        {
          "output_type": "execute_result",
          "data": {
            "text/plain": [
              "<9138x18039 sparse matrix of type '<class 'numpy.int64'>'\n",
              "\twith 493450 stored elements in Compressed Sparse Row format>"
            ]
          },
          "metadata": {
            "tags": []
          },
          "execution_count": 31
        }
      ]
    },
    {
      "cell_type": "markdown",
      "metadata": {
        "id": "NQNLWShrvTUt"
      },
      "source": [
        "We can see that a sparse matrix of 9138 observations (number of rows of the reviews_text_new series) has been built, and 17679 columns corresponding to the features extracted by means of the representation of the 1-gram count of the user reviews.\n",
        "\n",
        "Once the bag of words is prepared, the dataset should be divided into training and test sets:"
      ]
    },
    {
      "cell_type": "code",
      "metadata": {
        "id": "HM3hySlkppjE"
      },
      "source": [
        "X_train_bow, X_test_bow, y_train_bow, y_test_bow = train_test_split(bow_data, # Features\n",
        "                                                                    df['Sentiment_rating'], # Target variable\n",
        "                                                                    test_size = 0.2, # 20% test size\n",
        "                                                                    random_state = 0) # random state for replication purposes "
      ],
      "execution_count": 32,
      "outputs": []
    },
    {
      "cell_type": "code",
      "metadata": {
        "colab": {
          "base_uri": "https://localhost:8080/"
        },
        "id": "6bBmCTyLvfqP",
        "outputId": "8ce278eb-c77d-41c5-cd71-36db3fa92287"
      },
      "source": [
        "y_test_bow.value_counts()/y_test_bow.shape[0]"
      ],
      "execution_count": 33,
      "outputs": [
        {
          "output_type": "execute_result",
          "data": {
            "text/plain": [
              "1    0.847921\n",
              "0    0.152079\n",
              "Name: Sentiment_rating, dtype: float64"
            ]
          },
          "metadata": {
            "tags": []
          },
          "execution_count": 33
        }
      ]
    },
    {
      "cell_type": "markdown",
      "metadata": {
        "id": "YCPuQkvQvrPQ"
      },
      "source": [
        "The test data contains 84% positive sentiment reviews. So, if we were to naively classify all reviews as positive, then our model would achieve an accuracy of 84%. Therefore, this is the baseline that any model we create must beat. We have an imbalance in the classes. However, we will skip the handling class imbalance processes to focus on NLP modeling. However, as an intermediate step, techniques such as SMOTE, sub-sampling or oversampling can be applied."
      ]
    },
    {
      "cell_type": "markdown",
      "metadata": {
        "id": "iFCsEzesvv3g"
      },
      "source": [
        "## **Applying logistic regression**\n",
        "Let's train the model on our training data and run the resulting model on our test data:"
      ]
    },
    {
      "cell_type": "code",
      "metadata": {
        "colab": {
          "base_uri": "https://localhost:8080/"
        },
        "id": "w7Os2rWYvnCc",
        "outputId": "1c96109a-ee9c-4133-e391-3eaa271c4598"
      },
      "source": [
        "### Training the model \n",
        "lr_model_all = LogisticRegression() # Logistic regression\n",
        "lr_model_all.fit(X_train_bow, y_train_bow) # Fitting a logistic regression model\n",
        "\n",
        "## Predicting the output\n",
        "test_pred_lr_all = lr_model_all.predict(X_test_bow) # Class prediction\n",
        "\n",
        "## Calculate key performance metrics\n",
        "print(\"F1 score: \", f1_score(y_test_bow, test_pred_lr_all))"
      ],
      "execution_count": 34,
      "outputs": [
        {
          "output_type": "stream",
          "text": [
            "F1 score:  0.9526854219948849\n"
          ],
          "name": "stdout"
        }
      ]
    },
    {
      "cell_type": "markdown",
      "metadata": {
        "id": "ehk_8uJHwApd"
      },
      "source": [
        "Let's modify the set of features in the model to include bigrams, trigrams, and 4-grams:"
      ]
    },
    {
      "cell_type": "code",
      "metadata": {
        "id": "z5aGkH3rv79R"
      },
      "source": [
        "### Changes with respect to the previous code\n",
        "### 1. Increasing the n-grams from just having 1-gram to (1-gram, 2-gram, 3-gram, and 4-gram)\n",
        "### 2. Including the stopwords in the bag of words features\n",
        "\n",
        "bow_counts = CountVectorizer(tokenizer= word_tokenize,\n",
        "                             ngram_range=(1,4))\n",
        "\n",
        "bow_data = bow_counts.fit_transform(df.reviews_text_new)"
      ],
      "execution_count": 35,
      "outputs": []
    },
    {
      "cell_type": "code",
      "metadata": {
        "colab": {
          "base_uri": "https://localhost:8080/"
        },
        "id": "mWPTMt-kwD-z",
        "outputId": "c22cae90-c984-46dd-cf99-9f2307e78358"
      },
      "source": [
        " # Notice the increase in features with inclusion of n-grams\n",
        "bow_data"
      ],
      "execution_count": 36,
      "outputs": [
        {
          "output_type": "execute_result",
          "data": {
            "text/plain": [
              "<9138x1261413 sparse matrix of type '<class 'numpy.int64'>'\n",
              "\twith 2530528 stored elements in Compressed Sparse Row format>"
            ]
          },
          "metadata": {
            "tags": []
          },
          "execution_count": 36
        }
      ]
    },
    {
      "cell_type": "code",
      "metadata": {
        "id": "228XDdqG3pK6"
      },
      "source": [
        "X_train_bow, X_test_bow, y_train_bow, y_test_bow = train_test_split(bow_data,\n",
        "                                                                    df['Sentiment_rating'],\n",
        "                                                                    test_size = 0.2,\n",
        "                                                                    random_state = 0)"
      ],
      "execution_count": 37,
      "outputs": []
    },
    {
      "cell_type": "code",
      "metadata": {
        "colab": {
          "base_uri": "https://localhost:8080/"
        },
        "id": "ADhcK9Em3xsG",
        "outputId": "9cc31528-d9dd-40dd-8543-0ed67b6621da"
      },
      "source": [
        "# Defining and training the model\n",
        "lr_model_all_new = LogisticRegression(max_iter = 200)\n",
        "lr_model_all_new.fit(X_train_bow, y_train_bow)\n",
        "\n",
        "# Predicting the results\n",
        "test_pred_lr_all = lr_model_all_new.predict(X_test_bow)\n",
        "\n",
        "print(\"F1 score: \", f1_score(y_test_bow,test_pred_lr_all))"
      ],
      "execution_count": 38,
      "outputs": [
        {
          "output_type": "stream",
          "text": [
            "F1 score:  0.9541745134965474\n"
          ],
          "name": "stdout"
        }
      ]
    },
    {
      "cell_type": "markdown",
      "metadata": {
        "id": "wGdDbPAS4G8k"
      },
      "source": [
        "The F1-score has jumped slightly. This is an example of what simple hyperparameter tuning and input feature modification can do to the overall performance. We can even get interpretable features from this in terms of what contributed the most to positive and negative sentiment:"
      ]
    },
    {
      "cell_type": "code",
      "metadata": {
        "colab": {
          "base_uri": "https://localhost:8080/",
          "height": 514
        },
        "id": "t-sHtp2432pR",
        "outputId": "9668f84a-fd3f-4ece-b0aa-02ff7f4d685d"
      },
      "source": [
        "lr_weights = pd.DataFrame(list(zip(bow_counts.get_feature_names(), # ge tall the n-gram feature names\n",
        "                                   lr_model_all_new.coef_[0])), # get the logistic regression coefficients\n",
        "                          columns= ['words','weights']) # defining the colunm names\n",
        "\n",
        "lr_weights.sort_values(['weights'], ascending = False)[:15] # top-15 more important features for positive reviews"
      ],
      "execution_count": 39,
      "outputs": [
        {
          "output_type": "execute_result",
          "data": {
            "text/html": [
              "<div>\n",
              "<style scoped>\n",
              "    .dataframe tbody tr th:only-of-type {\n",
              "        vertical-align: middle;\n",
              "    }\n",
              "\n",
              "    .dataframe tbody tr th {\n",
              "        vertical-align: top;\n",
              "    }\n",
              "\n",
              "    .dataframe thead th {\n",
              "        text-align: right;\n",
              "    }\n",
              "</style>\n",
              "<table border=\"1\" class=\"dataframe\">\n",
              "  <thead>\n",
              "    <tr style=\"text-align: right;\">\n",
              "      <th></th>\n",
              "      <th>words</th>\n",
              "      <th>weights</th>\n",
              "    </tr>\n",
              "  </thead>\n",
              "  <tbody>\n",
              "    <tr>\n",
              "      <th>448809</th>\n",
              "      <td>great</td>\n",
              "      <td>1.327825</td>\n",
              "    </tr>\n",
              "    <tr>\n",
              "      <th>305794</th>\n",
              "      <td>delicious</td>\n",
              "      <td>0.952226</td>\n",
              "    </tr>\n",
              "    <tr>\n",
              "      <th>810997</th>\n",
              "      <td>perfect</td>\n",
              "      <td>0.838265</td>\n",
              "    </tr>\n",
              "    <tr>\n",
              "      <th>438773</th>\n",
              "      <td>good</td>\n",
              "      <td>0.831878</td>\n",
              "    </tr>\n",
              "    <tr>\n",
              "      <th>1023733</th>\n",
              "      <td>the best</td>\n",
              "      <td>0.820454</td>\n",
              "    </tr>\n",
              "    <tr>\n",
              "      <th>358331</th>\n",
              "      <td>excellent</td>\n",
              "      <td>0.820368</td>\n",
              "    </tr>\n",
              "    <tr>\n",
              "      <th>171393</th>\n",
              "      <td>best</td>\n",
              "      <td>0.792752</td>\n",
              "    </tr>\n",
              "    <tr>\n",
              "      <th>639088</th>\n",
              "      <td>love</td>\n",
              "      <td>0.783723</td>\n",
              "    </tr>\n",
              "    <tr>\n",
              "      <th>709971</th>\n",
              "      <td>nice</td>\n",
              "      <td>0.769280</td>\n",
              "    </tr>\n",
              "    <tr>\n",
              "      <th>930961</th>\n",
              "      <td>smooth</td>\n",
              "      <td>0.637403</td>\n",
              "    </tr>\n",
              "    <tr>\n",
              "      <th>1237853</th>\n",
              "      <td>wonderful</td>\n",
              "      <td>0.635883</td>\n",
              "    </tr>\n",
              "    <tr>\n",
              "      <th>642547</th>\n",
              "      <td>loves</td>\n",
              "      <td>0.630535</td>\n",
              "    </tr>\n",
              "    <tr>\n",
              "      <th>724010</th>\n",
              "      <td>not too</td>\n",
              "      <td>0.602626</td>\n",
              "    </tr>\n",
              "    <tr>\n",
              "      <th>370041</th>\n",
              "      <td>favorite</td>\n",
              "      <td>0.595228</td>\n",
              "    </tr>\n",
              "    <tr>\n",
              "      <th>377546</th>\n",
              "      <td>find</td>\n",
              "      <td>0.584456</td>\n",
              "    </tr>\n",
              "  </tbody>\n",
              "</table>\n",
              "</div>"
            ],
            "text/plain": [
              "             words   weights\n",
              "448809       great  1.327825\n",
              "305794   delicious  0.952226\n",
              "810997     perfect  0.838265\n",
              "438773        good  0.831878\n",
              "1023733   the best  0.820454\n",
              "358331   excellent  0.820368\n",
              "171393        best  0.792752\n",
              "639088        love  0.783723\n",
              "709971        nice  0.769280\n",
              "930961      smooth  0.637403\n",
              "1237853  wonderful  0.635883\n",
              "642547       loves  0.630535\n",
              "724010     not too  0.602626\n",
              "370041    favorite  0.595228\n",
              "377546        find  0.584456"
            ]
          },
          "metadata": {
            "tags": []
          },
          "execution_count": 39
        }
      ]
    },
    {
      "cell_type": "code",
      "metadata": {
        "colab": {
          "base_uri": "https://localhost:8080/",
          "height": 514
        },
        "id": "ECEKYIlV4MZf",
        "outputId": "11999f35-c39f-4168-d5d7-67823b51d3c6"
      },
      "source": [
        "lr_weights.sort_values(['weights'], ascending = False)[-15:] # top-15 more important features for negative reviews"
      ],
      "execution_count": 40,
      "outputs": [
        {
          "output_type": "execute_result",
          "data": {
            "text/html": [
              "<div>\n",
              "<style scoped>\n",
              "    .dataframe tbody tr th:only-of-type {\n",
              "        vertical-align: middle;\n",
              "    }\n",
              "\n",
              "    .dataframe tbody tr th {\n",
              "        vertical-align: top;\n",
              "    }\n",
              "\n",
              "    .dataframe thead th {\n",
              "        text-align: right;\n",
              "    }\n",
              "</style>\n",
              "<table border=\"1\" class=\"dataframe\">\n",
              "  <thead>\n",
              "    <tr style=\"text-align: right;\">\n",
              "      <th></th>\n",
              "      <th>words</th>\n",
              "      <th>weights</th>\n",
              "    </tr>\n",
              "  </thead>\n",
              "  <tbody>\n",
              "    <tr>\n",
              "      <th>1241695</th>\n",
              "      <td>worst</td>\n",
              "      <td>-0.542737</td>\n",
              "    </tr>\n",
              "    <tr>\n",
              "      <th>1175374</th>\n",
              "      <td>very disappointed</td>\n",
              "      <td>-0.558068</td>\n",
              "    </tr>\n",
              "    <tr>\n",
              "      <th>1206112</th>\n",
              "      <td>were</td>\n",
              "      <td>-0.564819</td>\n",
              "    </tr>\n",
              "    <tr>\n",
              "      <th>874505</th>\n",
              "      <td>return</td>\n",
              "      <td>-0.568158</td>\n",
              "    </tr>\n",
              "    <tr>\n",
              "      <th>143979</th>\n",
              "      <td>away</td>\n",
              "      <td>-0.573385</td>\n",
              "    </tr>\n",
              "    <tr>\n",
              "      <th>959625</th>\n",
              "      <td>stick</td>\n",
              "      <td>-0.585494</td>\n",
              "    </tr>\n",
              "    <tr>\n",
              "      <th>144964</th>\n",
              "      <td>awful</td>\n",
              "      <td>-0.593931</td>\n",
              "    </tr>\n",
              "    <tr>\n",
              "      <th>1193585</th>\n",
              "      <td>waste</td>\n",
              "      <td>-0.612413</td>\n",
              "    </tr>\n",
              "    <tr>\n",
              "      <th>317336</th>\n",
              "      <td>disappointing</td>\n",
              "      <td>-0.613688</td>\n",
              "    </tr>\n",
              "    <tr>\n",
              "      <th>982546</th>\n",
              "      <td>t</td>\n",
              "      <td>-0.674788</td>\n",
              "    </tr>\n",
              "    <tr>\n",
              "      <th>148156</th>\n",
              "      <td>bad</td>\n",
              "      <td>-0.693502</td>\n",
              "    </tr>\n",
              "    <tr>\n",
              "      <th>1201325</th>\n",
              "      <td>weak</td>\n",
              "      <td>-0.731766</td>\n",
              "    </tr>\n",
              "    <tr>\n",
              "      <th>352214</th>\n",
              "      <td>even</td>\n",
              "      <td>-0.793842</td>\n",
              "    </tr>\n",
              "    <tr>\n",
              "      <th>716808</th>\n",
              "      <td>not</td>\n",
              "      <td>-1.014964</td>\n",
              "    </tr>\n",
              "    <tr>\n",
              "      <th>316985</th>\n",
              "      <td>disappointed</td>\n",
              "      <td>-1.166413</td>\n",
              "    </tr>\n",
              "  </tbody>\n",
              "</table>\n",
              "</div>"
            ],
            "text/plain": [
              "                     words   weights\n",
              "1241695              worst -0.542737\n",
              "1175374  very disappointed -0.558068\n",
              "1206112               were -0.564819\n",
              "874505              return -0.568158\n",
              "143979                away -0.573385\n",
              "959625               stick -0.585494\n",
              "144964               awful -0.593931\n",
              "1193585              waste -0.612413\n",
              "317336       disappointing -0.613688\n",
              "982546                   t -0.674788\n",
              "148156                 bad -0.693502\n",
              "1201325               weak -0.731766\n",
              "352214                even -0.793842\n",
              "716808                 not -1.014964\n",
              "316985        disappointed -1.166413"
            ]
          },
          "metadata": {
            "tags": []
          },
          "execution_count": 40
        }
      ]
    },
    {
      "cell_type": "markdown",
      "metadata": {
        "id": "lU5IYbelPxVI"
      },
      "source": [
        "# **Conclusions**\n",
        "\n",
        "In this case, we cleaned up and featurized an Amazon reviews dataset and built some classification models on these featurizations to predict sentiment. We saw that bag-of-words. Through increase the set of n-grams we used from 1-grams to up to 4-grams, we were able to get our logistic regression model accuracy up to 95%."
      ]
    },
    {
      "cell_type": "code",
      "metadata": {
        "id": "j5LiKR0LP3SH"
      },
      "source": [
        ""
      ],
      "execution_count": null,
      "outputs": []
    }
  ]
}